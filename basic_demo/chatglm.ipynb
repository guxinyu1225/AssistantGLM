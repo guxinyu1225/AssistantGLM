{
 "cells": [
  {
   "cell_type": "code",
   "execution_count": 1,
   "id": "88302614-bda4-44bd-a0ab-1df4d1345ee3",
   "metadata": {
    "execution": {
     "iopub.execute_input": "2024-05-30T11:32:20.997185Z",
     "iopub.status.busy": "2024-05-30T11:32:20.996877Z",
     "iopub.status.idle": "2024-05-30T11:32:22.375188Z",
     "shell.execute_reply": "2024-05-30T11:32:22.374735Z",
     "shell.execute_reply.started": "2024-05-30T11:32:20.997166Z"
    },
    "tags": []
   },
   "outputs": [
    {
     "name": "stderr",
     "output_type": "stream",
     "text": [
      "/opt/conda/lib/python3.10/site-packages/tqdm/auto.py:21: TqdmWarning: IProgress not found. Please update jupyter and ipywidgets. See https://ipywidgets.readthedocs.io/en/stable/user_install.html\n",
      "  from .autonotebook import tqdm as notebook_tqdm\n"
     ]
    }
   ],
   "source": [
    "import os\n",
    "from transformers import AutoTokenizer, AutoModel\n",
    "import torch"
   ]
  },
  {
   "cell_type": "code",
   "execution_count": 2,
   "id": "b54d2628-61cd-4697-bed3-2d7878366d7a",
   "metadata": {
    "execution": {
     "iopub.execute_input": "2024-05-30T11:32:24.711230Z",
     "iopub.status.busy": "2024-05-30T11:32:24.710842Z",
     "iopub.status.idle": "2024-05-30T11:32:29.316151Z",
     "shell.execute_reply": "2024-05-30T11:32:29.315689Z",
     "shell.execute_reply.started": "2024-05-30T11:32:24.711211Z"
    },
    "tags": []
   },
   "outputs": [
    {
     "name": "stderr",
     "output_type": "stream",
     "text": [
      "Setting eos_token is not supported, use the default one.\n",
      "Setting pad_token is not supported, use the default one.\n",
      "Setting unk_token is not supported, use the default one.\n",
      "Loading checkpoint shards: 100%|██████████| 7/7 [00:02<00:00,  3.03it/s]\n"
     ]
    }
   ],
   "source": [
    "MODEL_PATH = os.environ.get('MODEL_PATH', 'your_path_to_chatglm_model')\n",
    "TOKENIZER_PATH = os.environ.get(\"TOKENIZER_PATH\", MODEL_PATH)\n",
    "\n",
    "tokenizer = AutoTokenizer.from_pretrained(TOKENIZER_PATH, trust_remote_code=True)\n",
    "model = AutoModel.from_pretrained(MODEL_PATH, trust_remote_code=True, device_map=\"auto\").eval()"
   ]
  },
  {
   "cell_type": "code",
   "execution_count": 3,
   "id": "9317509b-8a0f-446d-ad6f-afd1186a0a58",
   "metadata": {
    "ExecutionIndicator": {
     "show": false
    },
    "execution": {
     "iopub.execute_input": "2024-05-30T11:32:33.144714Z",
     "iopub.status.busy": "2024-05-30T11:32:33.144300Z",
     "iopub.status.idle": "2024-05-30T11:32:35.531244Z",
     "shell.execute_reply": "2024-05-30T11:32:35.530740Z",
     "shell.execute_reply.started": "2024-05-30T11:32:33.144692Z"
    },
    "tags": []
   },
   "outputs": [],
   "source": [
    "history=[]\n",
    "query = '你好'\n",
    "response,history = model.chat(tokenizer, query, history=history)"
   ]
  },
  {
   "cell_type": "code",
   "execution_count": 4,
   "id": "90d21e8d-498a-44e7-a31e-28dc6e6194fc",
   "metadata": {
    "execution": {
     "iopub.execute_input": "2024-05-30T11:32:49.151743Z",
     "iopub.status.busy": "2024-05-30T11:32:49.151411Z",
     "iopub.status.idle": "2024-05-30T11:32:49.155091Z",
     "shell.execute_reply": "2024-05-30T11:32:49.154664Z",
     "shell.execute_reply.started": "2024-05-30T11:32:49.151725Z"
    },
    "tags": []
   },
   "outputs": [
    {
     "name": "stdout",
     "output_type": "stream",
     "text": [
      "你好👋！我是人工智能助手 ChatGLM3-6B，很高兴见到你，欢迎问我任何问题。\n"
     ]
    }
   ],
   "source": [
    "print(response)"
   ]
  }
 ],
 "metadata": {
  "kernelspec": {
   "display_name": "Python 3 (ipykernel)",
   "language": "python",
   "name": "python3"
  },
  "language_info": {
   "codemirror_mode": {
    "name": "ipython",
    "version": 3
   },
   "file_extension": ".py",
   "mimetype": "text/x-python",
   "name": "python",
   "nbconvert_exporter": "python",
   "pygments_lexer": "ipython3",
   "version": "3.10.13"
  }
 },
 "nbformat": 4,
 "nbformat_minor": 5
}
